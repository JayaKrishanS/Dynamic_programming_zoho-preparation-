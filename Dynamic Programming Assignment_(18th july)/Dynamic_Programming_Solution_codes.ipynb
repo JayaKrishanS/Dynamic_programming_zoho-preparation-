{
  "nbformat": 4,
  "nbformat_minor": 0,
  "metadata": {
    "colab": {
      "provenance": []
    },
    "kernelspec": {
      "name": "python3",
      "display_name": "Python 3"
    },
    "language_info": {
      "name": "python"
    }
  },
  "cells": [
    {
      "cell_type": "markdown",
      "source": [
        "# Problem 1"
      ],
      "metadata": {
        "id": "2OlHsdrbfFqU"
      }
    },
    {
      "cell_type": "code",
      "source": [
        "def coin_change(coins, amount):\n",
        "    dp = [amount + 1] * (amount + 1)\n",
        "    dp[0] = 0\n",
        "\n",
        "    for i in range(1, amount + 1):\n",
        "        for coin in coins:\n",
        "            if i - coin >= 0:\n",
        "                dp[i] = min(dp[i], dp[i - coin] + 1)\n",
        "\n",
        "    return dp[amount] if dp[amount] != amount + 1 else -1\n",
        "\n",
        "# Example usage:\n",
        "coins = list(map(int, input().split()))\n",
        "amount = int(input())\n",
        "print(coin_change(coins, amount))"
      ],
      "metadata": {
        "colab": {
          "base_uri": "https://localhost:8080/"
        },
        "id": "cXJ4LJqyfJpv",
        "outputId": "7ebccc78-ef89-483e-eb7d-eff62fa3c951"
      },
      "execution_count": 9,
      "outputs": [
        {
          "output_type": "stream",
          "name": "stdout",
          "text": [
            "1 3 5\n",
            "11\n",
            "3\n"
          ]
        }
      ]
    },
    {
      "cell_type": "markdown",
      "source": [
        "# Problem 2"
      ],
      "metadata": {
        "id": "x6kgVxTReT9I"
      }
    },
    {
      "cell_type": "code",
      "source": [
        "def longest_palindromic_substring(s):\n",
        "    n = len(s)\n",
        "    if n == 0:\n",
        "        return \"\"\n",
        "\n",
        "    dp = [[False] * n for _ in range(n)]\n",
        "    start = 0\n",
        "    max_length = 1\n",
        "\n",
        "    for i in range(n):\n",
        "        dp[i][i] = True\n",
        "\n",
        "    for i in range(n - 1):\n",
        "        if s[i] == s[i + 1]:\n",
        "            dp[i][i + 1] = True\n",
        "            start = i\n",
        "            max_length = 2\n",
        "\n",
        "    for length in range(3, n + 1):\n",
        "        for i in range(n - length + 1):\n",
        "            j = i + length - 1\n",
        "            if s[i] == s[j] and dp[i + 1][j - 1]:\n",
        "                dp[i][j] = True\n",
        "                start = i\n",
        "                max_length = length\n",
        "\n",
        "    return s[start:start + max_length]\n",
        "\n",
        "s1 = input()\n",
        "print(longest_palindromic_substring(s1))"
      ],
      "metadata": {
        "colab": {
          "base_uri": "https://localhost:8080/"
        },
        "id": "Ihddv_H9eXaM",
        "outputId": "21d4d258-b99a-479e-a8ba-266beb5356b6"
      },
      "execution_count": 8,
      "outputs": [
        {
          "output_type": "stream",
          "name": "stdout",
          "text": [
            "\"cbbd\n",
            "bb\n"
          ]
        }
      ]
    },
    {
      "cell_type": "markdown",
      "source": [
        "# Problem 3"
      ],
      "metadata": {
        "id": "FkhfaGtydUXn"
      }
    },
    {
      "cell_type": "code",
      "source": [
        "def max_k_repeating(sequence, word):\n",
        "    m, n = len(sequence), len(word)\n",
        "    S = [0] * (m + 1)\n",
        "\n",
        "    max_k = 0\n",
        "\n",
        "    for i in range(n, m + 1):\n",
        "        if sequence[i-n:i] == word:\n",
        "            S[i] = S[i-n] + 1\n",
        "            max_k = max(max_k, S[i])\n",
        "\n",
        "    return max_k\n",
        "\n",
        "sequence = input()\n",
        "word = input()\n",
        "print(max_k_repeating(sequence, word))\n"
      ],
      "metadata": {
        "colab": {
          "base_uri": "https://localhost:8080/"
        },
        "id": "CATdYSITda9_",
        "outputId": "d549df3f-66a8-42f7-c737-2fc021a1b714"
      },
      "execution_count": 7,
      "outputs": [
        {
          "output_type": "stream",
          "name": "stdout",
          "text": [
            "ababc\n",
            "ab\n",
            "2\n"
          ]
        }
      ]
    },
    {
      "cell_type": "markdown",
      "source": [
        "# Problem 4"
      ],
      "metadata": {
        "id": "jlV5yEm6ctQk"
      }
    },
    {
      "cell_type": "code",
      "source": [
        "def max_subarray_sum(num):\n",
        "    if not num:\n",
        "        return 0\n",
        "\n",
        "    n = len(num)\n",
        "    S = [0] * n\n",
        "    S[0] = nums[0]\n",
        "\n",
        "    for i in range(1, n):\n",
        "        S[i] = max(nums[i], nums[i] + S[i-1])\n",
        "\n",
        "    return max(S)\n",
        "\n",
        "nums = list(map(int, input().split()))\n",
        "print(max_subarray_sum(nums))\n"
      ],
      "metadata": {
        "colab": {
          "base_uri": "https://localhost:8080/",
          "height": 0
        },
        "id": "G3SB2-6Kcw8R",
        "outputId": "0edd46ed-623b-4283-ce2e-9c93c8fe91fd"
      },
      "execution_count": 4,
      "outputs": [
        {
          "output_type": "stream",
          "name": "stdout",
          "text": [
            "4 -1 2 1\n",
            "6\n"
          ]
        }
      ]
    },
    {
      "cell_type": "markdown",
      "source": [
        "# Problem 5"
      ],
      "metadata": {
        "id": "PUkMLjG3agaq"
      }
    },
    {
      "cell_type": "code",
      "execution_count": 5,
      "metadata": {
        "id": "SYrd5H4hFXt8",
        "colab": {
          "base_uri": "https://localhost:8080/",
          "height": 0
        },
        "outputId": "a0288eaf-47df-493a-d416-bdfada77bf11"
      },
      "outputs": [
        {
          "output_type": "stream",
          "name": "stdout",
          "text": [
            "4\n",
            "5\n"
          ]
        }
      ],
      "source": [
        "def climb_stairs(n):\n",
        "    if n == 1:\n",
        "        return 1\n",
        "    elif n == 2:\n",
        "        return 2\n",
        "\n",
        "    # Initialize the base cases\n",
        "    S = [0] * (n + 1)\n",
        "    S[1] = 1\n",
        "    S[2] = 2\n",
        "\n",
        "    for i in range(3, n + 1):\n",
        "        S[i] = S[i - 1] + S[i - 2]\n",
        "\n",
        "    return S[n]\n",
        "\n",
        "n = int(input())\n",
        "print(climb_stairs(n))\n",
        "\n",
        "\n"
      ]
    },
    {
      "cell_type": "markdown",
      "source": [],
      "metadata": {
        "id": "yyYIK6Nxb87G"
      }
    }
  ]
}