{
  "nbformat": 4,
  "nbformat_minor": 0,
  "metadata": {
    "colab": {
      "provenance": []
    },
    "kernelspec": {
      "name": "python3",
      "display_name": "Python 3"
    },
    "language_info": {
      "name": "python"
    }
  },
  "cells": [
    {
      "cell_type": "markdown",
      "source": [
        "# Problem 1"
      ],
      "metadata": {
        "id": "YUl4QUXmRaLL"
      }
    },
    {
      "cell_type": "code",
      "source": [
        "class Node:\n",
        "    def __init__(self, data):\n",
        "        self.DataValue = data\n",
        "        self.NextValue = None\n",
        "\n",
        "class LinkedList:\n",
        "    def __init__(self):\n",
        "        self.HeadValue = None\n",
        "\n",
        "    def remove_nth_from_end(self, n):\n",
        "        dummy = Node(0)\n",
        "        dummy.NextValue = self.HeadValue\n",
        "        first = dummy\n",
        "        second = dummy\n",
        "\n",
        "        for _ in range(n + 1):\n",
        "            if second is not None:\n",
        "                second = second.NextValue\n",
        "\n",
        "        while second is not None:\n",
        "            first = first.NextValue\n",
        "            second = second.NextValue\n",
        "\n",
        "        first.NextValue = first.NextValue.NextValue\n",
        "        self.HeadValue = dummy.NextValue\n",
        "\n",
        "def create_linked_list(arr):\n",
        "    list_1 = LinkedList()\n",
        "    for i in arr:\n",
        "        tempnode = Node(i)\n",
        "        if list_1.HeadValue is None:\n",
        "            list_1.HeadValue = tempnode\n",
        "        else:\n",
        "            current = list_1.HeadValue\n",
        "            while current.NextValue is not None:\n",
        "                current = current.NextValue\n",
        "            current.NextValue = tempnode\n",
        "    return list_1\n",
        "\n",
        "def linked_list_to_list(head):\n",
        "    arr = []\n",
        "    temp = head.HeadValue\n",
        "    while temp is not None:\n",
        "        arr.append(temp.DataValue)\n",
        "        temp = temp.NextValue\n",
        "    return arr\n",
        "\n",
        "arr = list(map(int, input().split()))\n",
        "n = int(input())\n",
        "\n",
        "LN = create_linked_list(arr)\n",
        "LN.remove_nth_from_end(n)\n",
        "print(linked_list_to_list(LN))"
      ],
      "metadata": {
        "colab": {
          "base_uri": "https://localhost:8080/"
        },
        "id": "r01UIHyaRZO_",
        "outputId": "e7d984b9-aafe-4550-a46f-94bea13a9f55"
      },
      "execution_count": 9,
      "outputs": [
        {
          "output_type": "stream",
          "name": "stdout",
          "text": [
            "1 2 3 4 5\n",
            "2\n",
            "[1, 2, 3, 5]\n"
          ]
        }
      ]
    },
    {
      "cell_type": "code",
      "execution_count": null,
      "metadata": {
        "id": "yd4iuPWdRPQE"
      },
      "outputs": [],
      "source": []
    }
  ]
}