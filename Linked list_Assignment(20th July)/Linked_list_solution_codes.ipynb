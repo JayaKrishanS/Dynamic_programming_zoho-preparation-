{
  "nbformat": 4,
  "nbformat_minor": 0,
  "metadata": {
    "colab": {
      "provenance": []
    },
    "kernelspec": {
      "name": "python3",
      "display_name": "Python 3"
    },
    "language_info": {
      "name": "python"
    }
  },
  "cells": [
    {
      "cell_type": "markdown",
      "source": [
        "# Problem 1"
      ],
      "metadata": {
        "id": "YUl4QUXmRaLL"
      }
    },
    {
      "cell_type": "code",
      "source": [
        "class Node:\n",
        "  def __init__(self, data):\n",
        "    self.DataValue = data\n",
        "    self.NextValue = None\n",
        "\n",
        "class LinkedList:\n",
        "  def __init__(self):\n",
        "    self.HeadValue = None\n",
        "\n",
        "  def remove_nth_from_end(self, n):\n",
        "    dummy = Node(0)\n",
        "    dummy.NextValue = self.HeadValue\n",
        "    first = dummy\n",
        "    second = dummy\n",
        "\n",
        "    for _ in range(n + 1):\n",
        "      if second is not None:\n",
        "        second = second.NextValue\n",
        "\n",
        "    while second is not None:\n",
        "      first = first.NextValue\n",
        "      second = second.NextValue\n",
        "\n",
        "    first.NextValue = first.NextValue.NextValue\n",
        "    self.HeadValue = dummy.NextValue\n",
        "\n",
        "def create_linked_list(arr):\n",
        "  list_1 = LinkedList()\n",
        "  for i in arr:\n",
        "    tempnode = Node(i)\n",
        "    if list_1.HeadValue is None:\n",
        "      list_1.HeadValue = tempnode\n",
        "    else:\n",
        "      current = list_1.HeadValue\n",
        "      while current.NextValue is not None:\n",
        "        current = current.NextValue\n",
        "      current.NextValue = tempnode\n",
        "  return list_1\n",
        "\n",
        "def linked_list_to_list(head):\n",
        "  arr = []\n",
        "  temp = head.HeadValue\n",
        "  while temp is not None:\n",
        "    arr.append(temp.DataValue)\n",
        "    temp = temp.NextValue\n",
        "  return arr\n",
        "\n",
        "arr = list(map(int, input().split()))\n",
        "n = int(input())\n",
        "\n",
        "LN = create_linked_list(arr)\n",
        "LN.remove_nth_from_end(n)\n",
        "print(linked_list_to_list(LN))"
      ],
      "metadata": {
        "colab": {
          "base_uri": "https://localhost:8080/"
        },
        "id": "r01UIHyaRZO_",
        "outputId": "ef817e47-71b9-43c7-d0de-57f94c5f156b"
      },
      "execution_count": 15,
      "outputs": [
        {
          "output_type": "stream",
          "name": "stdout",
          "text": [
            "1 2 3 4 5\n",
            "2\n",
            "[1, 2, 3, 5]\n"
          ]
        }
      ]
    },
    {
      "cell_type": "markdown",
      "source": [
        "# Problem 2"
      ],
      "metadata": {
        "id": "MH8HfjYs4j6K"
      }
    },
    {
      "cell_type": "code",
      "execution_count": 11,
      "metadata": {
        "id": "yd4iuPWdRPQE",
        "colab": {
          "base_uri": "https://localhost:8080/"
        },
        "outputId": "bf739b68-94cc-4add-eb4f-caacba391372"
      },
      "outputs": [
        {
          "output_type": "stream",
          "name": "stdout",
          "text": [
            "1 2 3 4 5\n",
            "5 4 3 2 1 \n"
          ]
        }
      ],
      "source": [
        "class Node:\n",
        "  def __init__(self, data):\n",
        "    self.DataValue = data\n",
        "    self.NextValue = None\n",
        "\n",
        "class linkedlist:\n",
        "  def __init__(self):\n",
        "    self.HeadValue = None\n",
        "\n",
        "  def reverse(self):\n",
        "    prev = None\n",
        "    current = self.HeadValue\n",
        "    while current is not None:\n",
        "      next_node = current.NextValue\n",
        "      current.NextValue = prev\n",
        "      prev = current\n",
        "      current = next_node\n",
        "    self.HeadValue = prev\n",
        "  def print_linked_list(self):\n",
        "    current = self.HeadValue\n",
        "    while current is not None:\n",
        "      print(current.DataValue, end=' ')\n",
        "      current = current.NextValue\n",
        "    print()\n",
        "\n",
        "\n",
        "def create_linked_list(arr):\n",
        "  list_1 = linkedlist()\n",
        "  for i in arr:\n",
        "    tempnode = Node(i)\n",
        "    if list_1.HeadValue is None:\n",
        "      list_1.HeadValue = tempnode\n",
        "    else:\n",
        "      current = list_1.HeadValue\n",
        "      while current.NextValue is not None:\n",
        "        current = current.NextValue\n",
        "      current.NextValue = tempnode\n",
        "  return list_1\n",
        "\n",
        "\n",
        "arr = list(map(int, input().split()))\n",
        "LN = create_linked_list(arr)\n",
        "LN.reverse()\n",
        "LN.print_linked_list()\n"
      ]
    },
    {
      "cell_type": "markdown",
      "source": [
        "# Problem 3"
      ],
      "metadata": {
        "id": "zpjvc9pBYNnH"
      }
    },
    {
      "cell_type": "code",
      "source": [
        "class Node:\n",
        "  def __init__(self, data):\n",
        "    self.DataValue = data\n",
        "    self.NextValue = None\n",
        "\n",
        "class linkedlist:\n",
        "  def __init__(self):\n",
        "    self.HeadValue = None\n",
        "\n",
        "  def print_linked_list(self):\n",
        "    current = self.HeadValue\n",
        "    while current is not None:\n",
        "      print(current.DataValue, end = ' ')\n",
        "      current = current.NextValue\n",
        "    print()\n",
        "\n",
        "def create_linked_list(arr):\n",
        "  list_1 = linkedlist()\n",
        "  for i in arr:\n",
        "    tempnode = Node(i)\n",
        "    if list_1.HeadValue is None:\n",
        "      list_1.HeadValue = tempnode\n",
        "    else:\n",
        "      current = list_1.HeadValue\n",
        "      while current.NextValue is not None:\n",
        "        current = current.NextValue\n",
        "      current.NextValue = tempnode\n",
        "  return list_1\n",
        "\n",
        "def merge_two_lists(list1, list2):\n",
        "  dummy = Node(0)\n",
        "  tail = dummy\n",
        "  p1, p2 = list1.HeadValue, list2.HeadValue\n",
        "\n",
        "  while p1 and p2:\n",
        "    if p1.DataValue < p2.DataValue:\n",
        "      tail.NextValue = p1\n",
        "      p1 = p1.NextValue\n",
        "    else:\n",
        "      tail.NextValue = p2\n",
        "      p2 = p2.NextValue\n",
        "    tail = tail.NextValue\n",
        "\n",
        "  if p1:\n",
        "    tail.NextValue = p1\n",
        "  if p2:\n",
        "    tail.NextValue = p2\n",
        "\n",
        "  merged_list = linkedlist()\n",
        "  merged_list.HeadValue = dummy.NextValue\n",
        "  return merged_list\n",
        "\n",
        "arr1 = list(map(int, input().split()))\n",
        "arr2 = list(map(int, input().split()))\n",
        "\n",
        "LL_1 = create_linked_list(arr1)\n",
        "LL_2 = create_linked_list(arr2)\n",
        "\n",
        "merged_list = merge_two_lists(LL_1, LL_2)\n",
        "merged_list.print_linked_list()"
      ],
      "metadata": {
        "colab": {
          "base_uri": "https://localhost:8080/"
        },
        "id": "1O-EaM04YQmQ",
        "outputId": "53060e2d-5aa5-4ef5-d741-ccea97a5638b"
      },
      "execution_count": 24,
      "outputs": [
        {
          "output_type": "stream",
          "name": "stdout",
          "text": [
            "1 2 4\n",
            "1 3 4\n",
            "1 1 2 3 4 4 \n"
          ]
        }
      ]
    },
    {
      "cell_type": "markdown",
      "source": [
        "# Problem 4"
      ],
      "metadata": {
        "id": "EtIqyMzycjtc"
      }
    },
    {
      "cell_type": "code",
      "source": [
        "class Node:\n",
        "  def __init__(self, data):\n",
        "    self.DataValue = data\n",
        "    self.NextValue = None\n",
        "\n",
        "class LinkedList:\n",
        "  def __init__(self):\n",
        "    self.HeadValue = None\n",
        "\n",
        "def has_cycle(head):\n",
        "  if not head or not head.NextValue:\n",
        "    return False\n",
        "\n",
        "  slow = head\n",
        "  fast = head.NextValue\n",
        "\n",
        "  while slow != fast:\n",
        "    if not fast or not fast.NextValue:\n",
        "        return False\n",
        "    slow = slow.NextValue\n",
        "    fast = fast.NextValue.NextValue\n",
        "\n",
        "  return True\n",
        "\n",
        "def create_linked_list_with_cycle(arr, pos):\n",
        "  if not arr:\n",
        "    return None\n",
        "\n",
        "  list_1 = LinkedList()\n",
        "  tempnode = Node(arr[0])\n",
        "  list_1.HeadValue = tempnode\n",
        "  current = tempnode\n",
        "\n",
        "  cycle_node = None\n",
        "  if pos == 0:\n",
        "    cycle_node = tempnode\n",
        "\n",
        "  for i in range(1, len(arr)):\n",
        "    tempnode = Node(arr[i])\n",
        "    current.NextValue = tempnode\n",
        "    current = tempnode\n",
        "    if i == pos:\n",
        "      cycle_node = tempnode\n",
        "\n",
        "  if pos != -1:\n",
        "    current.NextValue = cycle_node\n",
        "\n",
        "  return list_1\n",
        "\n",
        "arr1 = list(map(int, input().split()))\n",
        "pos1 = int(input())\n",
        "LL1 = create_linked_list_with_cycle(arr1, pos1)\n",
        "print(has_cycle(LL1.HeadValue))"
      ],
      "metadata": {
        "colab": {
          "base_uri": "https://localhost:8080/"
        },
        "id": "pkofHsqmZ08j",
        "outputId": "465f4bc0-9236-4743-887d-67f903f6fc10"
      },
      "execution_count": 27,
      "outputs": [
        {
          "output_type": "stream",
          "name": "stdout",
          "text": [
            "3 2 0 -4\n",
            "1\n",
            "True\n"
          ]
        }
      ]
    },
    {
      "cell_type": "markdown",
      "source": [
        "# Problem 5"
      ],
      "metadata": {
        "id": "oRavfLzHjm4J"
      }
    },
    {
      "cell_type": "code",
      "source": [
        "class Node:\n",
        "  def __init__(self, data):\n",
        "    self.DataValue = data\n",
        "    self.NextValue = None\n",
        "\n",
        "class LinkedList:\n",
        "  def __init__(self):\n",
        "    self.HeadValue = None\n",
        "\n",
        "  def append(self, new_data):\n",
        "    new_node = Node(new_data)\n",
        "    if self.HeadValue is None:\n",
        "      self.HeadValue = new_node\n",
        "      return\n",
        "    last = self.HeadValue\n",
        "    while last.NextValue:\n",
        "      last = last.NextValue\n",
        "    last.NextValue = new_node\n",
        "\n",
        "  def print_linked_list(self):\n",
        "    current = self.HeadValue\n",
        "    while current:\n",
        "      print(current.DataValue, end=' ')\n",
        "      current = current.NextValue\n",
        "    print()\n",
        "\n",
        "def add_two_numbers(l1, l2):\n",
        "  dummy = Node(0)\n",
        "  p, q, curr = l1.HeadValue, l2.HeadValue, dummy\n",
        "  carry = 0\n",
        "\n",
        "  while p is not None or q is not None:\n",
        "    if p is not None:\n",
        "      x = p.DataValue\n",
        "    else:\n",
        "      x = 0\n",
        "\n",
        "    if q is not None:\n",
        "      y = q.DataValue\n",
        "    else:\n",
        "      y = 0\n",
        "\n",
        "    total = carry + x + y\n",
        "    carry = total // 10\n",
        "    curr.NextValue = Node(total % 10)\n",
        "    curr = curr.NextValue\n",
        "\n",
        "    if p is not None:\n",
        "      p = p.NextValue\n",
        "    if q is not None:\n",
        "      q = q.NextValue\n",
        "\n",
        "  if carry > 0:\n",
        "    curr.NextValue = Node(carry)\n",
        "\n",
        "  result = LinkedList()\n",
        "  result.HeadValue = dummy.NextValue\n",
        "  return result\n",
        "\n",
        "def create_linked_list(arr):\n",
        "  list_1 = LinkedList()\n",
        "  for i in arr:\n",
        "    list_1.append(i)\n",
        "  return list_1\n",
        "\n",
        "arr1 = list(map(int, input().split()))\n",
        "arr2 = list(map(int, input().split()))\n",
        "\n",
        "LL1 = create_linked_list(arr1)\n",
        "LL2 = create_linked_list(arr2)\n",
        "\n",
        "result = add_two_numbers(LL1, LL2)\n",
        "result.print_linked_list()"
      ],
      "metadata": {
        "colab": {
          "base_uri": "https://localhost:8080/"
        },
        "id": "rGEuG3fUj1Iu",
        "outputId": "9003bf65-12ef-4ab9-9768-725a2ed73264"
      },
      "execution_count": 37,
      "outputs": [
        {
          "output_type": "stream",
          "name": "stdout",
          "text": [
            "2 4 3\n",
            "5 6 4\n",
            "7 0 8 \n"
          ]
        }
      ]
    }
  ]
}