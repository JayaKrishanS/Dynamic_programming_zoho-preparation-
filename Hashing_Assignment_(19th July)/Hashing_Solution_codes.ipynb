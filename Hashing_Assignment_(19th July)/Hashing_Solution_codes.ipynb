{
  "nbformat": 4,
  "nbformat_minor": 0,
  "metadata": {
    "colab": {
      "provenance": []
    },
    "kernelspec": {
      "name": "python3",
      "display_name": "Python 3"
    },
    "language_info": {
      "name": "python"
    }
  },
  "cells": [
    {
      "cell_type": "markdown",
      "source": [
        "# Problem 1"
      ],
      "metadata": {
        "id": "o0os9WqeUp_l"
      }
    },
    {
      "cell_type": "code",
      "execution_count": null,
      "metadata": {
        "id": "Olq4l7ZAFrEr",
        "colab": {
          "base_uri": "https://localhost:8080/"
        },
        "outputId": "ca455d24-4aab-4f7a-fe72-ce959476ee36"
      },
      "outputs": [
        {
          "output_type": "stream",
          "name": "stdout",
          "text": [
            "2 11 7 15\n",
            "9\n",
            "[0, 2]\n"
          ]
        }
      ],
      "source": [
        "def two_sum(nums, target):\n",
        "    num_to_index = {}\n",
        "\n",
        "    for i in range(len(nums)):\n",
        "        num = nums[i]\n",
        "        complement = target - num\n",
        "        if complement in num_to_index:\n",
        "            return [num_to_index[complement], i]\n",
        "        num_to_index[num] = i\n",
        "\n",
        "    return []\n",
        "\n",
        "nums = list(map(int, input().split()))\n",
        "target = int(input())\n",
        "print(two_sum(nums, target))"
      ]
    },
    {
      "cell_type": "markdown",
      "source": [
        "# Problem 2"
      ],
      "metadata": {
        "id": "QEJ6L3JyWXNU"
      }
    },
    {
      "cell_type": "code",
      "source": [
        "def find_anagrams(strs):\n",
        "  anagram = {}\n",
        "\n",
        "  for i in strs:\n",
        "    key = ''.join(sorted(i))\n",
        "\n",
        "    if key not in anagram:\n",
        "      anagram[key]=[]\n",
        "    anagram[key].append(i)\n",
        "\n",
        "  return list(anagram.values())\n",
        "\n",
        "strs = list(map(str, input().split()))\n",
        "print(find_anagrams(strs))"
      ],
      "metadata": {
        "colab": {
          "base_uri": "https://localhost:8080/"
        },
        "id": "DjbXBHwfZUsd",
        "outputId": "d68311b5-e95b-43f4-b706-8e3a4a85d952"
      },
      "execution_count": null,
      "outputs": [
        {
          "output_type": "stream",
          "name": "stdout",
          "text": [
            "eat tea tan ate nat bat\n",
            "[['eat', 'tea', 'ate'], ['tan', 'nat'], ['bat']]\n"
          ]
        }
      ]
    },
    {
      "cell_type": "markdown",
      "source": [
        "# Problem 3"
      ],
      "metadata": {
        "id": "wPmvwuf5bGRI"
      }
    },
    {
      "cell_type": "code",
      "source": [
        "def length_of_longest_substring(s):\n",
        "    index = {}\n",
        "    max_len = 0\n",
        "    start = 0\n",
        "\n",
        "    for end in range(len(s)):\n",
        "        if s[end] in index and index[s[end]] >= start:\n",
        "            start = index[s[end]] + 1\n",
        "        index[s[end]] = end\n",
        "        max_len = max(max_len, end - start + 1)\n",
        "\n",
        "    return max_len\n",
        "\n",
        "# Example usage:\n",
        "s = input()\n",
        "print(length_of_longest_substring(s))"
      ],
      "metadata": {
        "id": "aTTJ4HarbF9y",
        "colab": {
          "base_uri": "https://localhost:8080/"
        },
        "outputId": "3df27b33-8b28-4f23-cc25-a01c11d357c2"
      },
      "execution_count": 1,
      "outputs": [
        {
          "output_type": "stream",
          "name": "stdout",
          "text": [
            "abcabcbb\n",
            "3\n"
          ]
        }
      ]
    },
    {
      "cell_type": "markdown",
      "source": [
        "# Problem 4"
      ],
      "metadata": {
        "id": "wrHlfuQDdJYJ"
      }
    },
    {
      "cell_type": "code",
      "source": [
        "def top_k_frequent(nums, k):\n",
        "\n",
        "    dict = {}\n",
        "    for i in nums:\n",
        "        if i in dict:\n",
        "            dict[i] += 1\n",
        "        else:\n",
        "            dict[i] = 1\n",
        "\n",
        "    sorted_elements = sorted(dict.items(), key=lambda item: item[1], reverse=True)\n",
        "\n",
        "    top_k = [element for element, frequency in sorted_elements[:k]]\n",
        "\n",
        "    return top_k\n",
        "\n",
        "nums = list(map(int, input().split()))\n",
        "k = int(input())\n",
        "print(top_k_frequent(nums, k))\n"
      ],
      "metadata": {
        "id": "_6YS33gcdMQy",
        "colab": {
          "base_uri": "https://localhost:8080/"
        },
        "outputId": "38bf02c4-30fe-4a75-d77f-a2f2880eb242"
      },
      "execution_count": 2,
      "outputs": [
        {
          "output_type": "stream",
          "name": "stdout",
          "text": [
            "1 1 1 2 2 3\n",
            "2\n",
            "[1, 2]\n"
          ]
        }
      ]
    },
    {
      "cell_type": "markdown",
      "source": [
        "# Problem 5"
      ],
      "metadata": {
        "id": "WS1ZVcjadMuv"
      }
    },
    {
      "cell_type": "code",
      "source": [
        "from os import truncate\n",
        "def valid_anagram(s, t):\n",
        "  s_dict = {}\n",
        "  for i in s:\n",
        "    if i in s_dict:\n",
        "      s_dict[i] += 1\n",
        "    else:\n",
        "      s_dict[i] = 1\n",
        "\n",
        "  t_dict = {}\n",
        "  for j in t:\n",
        "    if j in t_dict:\n",
        "      t_dict[j] += 1\n",
        "    else:\n",
        "      t_dict[j] = 1\n",
        "\n",
        "  if s_dict == t_dict:\n",
        "    return True\n",
        "  else:\n",
        "    return False\n",
        "\n",
        "s = input()\n",
        "t = input()\n",
        "print(valid_anagram(s, t))"
      ],
      "metadata": {
        "id": "JqzQ7WZIdPD7",
        "colab": {
          "base_uri": "https://localhost:8080/"
        },
        "outputId": "71a1b09d-931c-41a8-b511-c57c4232d9b8"
      },
      "execution_count": 17,
      "outputs": [
        {
          "output_type": "stream",
          "name": "stdout",
          "text": [
            "aet\n",
            "eat\n",
            "True\n"
          ]
        }
      ]
    },
    {
      "cell_type": "code",
      "source": [],
      "metadata": {
        "id": "9SZwUpZxmtL9"
      },
      "execution_count": null,
      "outputs": []
    }
  ]
}